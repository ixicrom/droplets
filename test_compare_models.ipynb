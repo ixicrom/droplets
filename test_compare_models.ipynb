{
 "cells": [
  {
   "cell_type": "code",
   "execution_count": 1,
   "metadata": {},
   "outputs": [],
   "source": [
    "from skimage import filters, io, draw, transform, measure, segmentation, color, morphology\n",
    "from skimage.future import graph\n",
    "import numpy as np\n",
    "from sklearn import preprocessing\n",
    "import matplotlib.pyplot as pl\n",
    "import math\n",
    "import pandas as pd\n",
    "import matplotlib.patches as mpatches\n",
    "from sklearn import preprocessing\n",
    "from scipy import ndimage\n",
    "\n",
    "from slice_tools import *\n",
    "from data_tools import *\n",
    "from processing_tools import *"
   ]
  },
  {
   "cell_type": "code",
   "execution_count": 2,
   "metadata": {},
   "outputs": [],
   "source": [
    "filePath = '/Users/s1101153/Desktop/TIFs/'\n",
    "infoFile = '/Users/s1101153/Dropbox/Emily/z-stack_info.csv'"
   ]
  },
  {
   "cell_type": "code",
   "execution_count": 3,
   "metadata": {},
   "outputs": [
    {
     "name": "stdout",
     "output_type": "stream",
     "text": [
      "Re-calculate image slices? y/n: n\n",
      "Reading saved slices\n"
     ]
    }
   ],
   "source": [
    "if input('Re-calculate image slices? y/n: ') == 'y':\n",
    "    print('Re-calculating slices...')\n",
    "    f = open(infoFile, 'r')\n",
    "    first_time=True\n",
    "    for line in f.readlines():\n",
    "        if line.startswith('SUM'):\n",
    "            vals=line.split(',')\n",
    "            fileName = filePath+vals[0]\n",
    "            umSize=float(vals[1])\n",
    "            L=int(vals[2])\n",
    "            Cx=float(vals[3])\n",
    "            Cy=float(vals[4])\n",
    "            g_index=int(vals[5]) #call the fuller channel the green one\n",
    "            r_index=int(vals[6]) #call the sparser channel the red one\n",
    "            n_slice = 12\n",
    "            if(first_time):\n",
    "                slices = read_slice(fileName, L, umSize, Cx, Cy, g_index, r_index)\n",
    "                first_time=False\n",
    "            else:\n",
    "                newslice = read_slice(fileName, L, umSize, Cx, Cy, g_index, r_index)\n",
    "                slices = pd.concat([slices, newslice], axis=0)\n",
    "    f.close() \n",
    "    slices\n",
    "    slices.to_pickle('/Users/s1101153/Dropbox/Emily/nice_slices.pkl')\n",
    "    print('New slices saved')\n",
    "else:\n",
    "    print('Reading saved slices')\n",
    "    slices=pd.read_pickle('/Users/s1101153/Dropbox/Emily/nice_slices.pkl')"
   ]
  },
  {
   "cell_type": "code",
   "execution_count": 4,
   "metadata": {},
   "outputs": [
    {
     "name": "stderr",
     "output_type": "stream",
     "text": [
      "/Users/s1101153/anaconda3/lib/python3.7/site-packages/skimage/io/_plugins/matplotlib_plugin.py:150: UserWarning: Low image data range; displaying image with stretched contrast.\n",
      "  lo, hi, cmap = _get_display_range(image)\n"
     ]
    },
    {
     "data": {
      "text/plain": [
       "<matplotlib.image.AxesImage at 0x7f8cb7c45510>"
      ]
     },
     "execution_count": 4,
     "metadata": {},
     "output_type": "execute_result"
    },
    {
     "data": {
      "image/png": "[encoded data removed]",
      "text/plain": [
       "<Figure size 432x288 with 2 Axes>"
      ]
     },
     "metadata": {
      "needs_background": "light"
     },
     "output_type": "display_data"
    }
   ],
   "source": [
    "idx = pd.IndexSlice\n",
    "test_im = slices.loc['/Users/s1101153/Desktop/TIFs/SUM_2014_5_30-T3M_7_63xoil_1.tif','green',0]\n",
    "# test_im.values\n",
    "io.imshow(test_im.values[0])"
   ]
  },
  {
   "cell_type": "code",
   "execution_count": 31,
   "metadata": {},
   "outputs": [
    {
     "name": "stdout",
     "output_type": "stream",
     "text": [
      "0: 21304\n",
      "1: 23124\n",
      "2: 27721\n",
      "3: 42314\n",
      "4: 68331\n",
      "5: 66775\n",
      "6: 62501\n",
      "7: 55018\n",
      "8: 35907\n",
      "9: 23092\n",
      "10: 21393\n",
      "11: 21960\n",
      "12: 1247\n",
      "13: 781\n",
      "14: 864\n",
      "15: 1312\n",
      "16: 1042\n",
      "17: 1342\n",
      "18: 1055\n",
      "19: 882\n",
      "20: 739\n",
      "21: 2104\n",
      "22: 654\n",
      "23: 399\n",
      "24: 1162\n",
      "25: 851\n",
      "26: 1821\n",
      "27: 1748\n",
      "28: 1045\n",
      "29: 2330\n",
      "30: 876\n",
      "31: 1648\n",
      "32: 1875\n",
      "33: 2242\n",
      "34: 2511\n",
      "35: 2076\n",
      "36: 9079\n",
      "37: 10102\n",
      "38: 9589\n",
      "39: 12679\n",
      "40: 14246\n",
      "41: 14782\n",
      "42: 14930\n",
      "43: 12155\n",
      "44: 11556\n",
      "45: 9617\n",
      "46: 7973\n",
      "47: 8195\n",
      "48: 1997\n",
      "49: 3925\n",
      "50: 7028\n",
      "51: 14450\n",
      "52: 25590\n",
      "53: 29635\n",
      "54: 24387\n",
      "55: 14645\n",
      "56: 5808\n",
      "57: 2621\n",
      "58: 1938\n",
      "59: 2045\n",
      "60: 189\n",
      "61: 446\n",
      "62: 714\n",
      "63: 733\n",
      "64: 670\n",
      "65: 1304\n",
      "66: 584\n",
      "67: 545\n",
      "68: 1321\n",
      "69: 587\n",
      "70: 190\n",
      "71: 341\n",
      "72: 2459\n",
      "73: 32\n",
      "74: 75\n",
      "75: 130\n",
      "76: 21\n",
      "77: 5126\n",
      "78: 366\n",
      "79: 4\n",
      "80: 2438\n",
      "81: 130\n",
      "82: 0\n",
      "83: 64\n",
      "84: 49\n",
      "85: 0\n",
      "86: 0\n",
      "87: 0\n",
      "88: 0\n",
      "89: 301\n",
      "90: 301\n",
      "91: 1\n",
      "92: 1982\n",
      "93: 0\n",
      "94: 0\n",
      "95: 0\n",
      "96: 13309\n",
      "97: 12270\n",
      "98: 8351\n",
      "99: 5927\n",
      "100: 3492\n",
      "101: 2959\n",
      "102: 3262\n",
      "103: 6667\n",
      "104: 7457\n",
      "105: 9242\n",
      "106: 9041\n",
      "107: 9959\n",
      "108: 12673\n",
      "109: 10744\n",
      "110: 8683\n",
      "111: 3959\n",
      "112: 5650\n",
      "113: 3498\n",
      "114: 4646\n",
      "115: 3481\n",
      "116: 7645\n",
      "117: 11968\n",
      "118: 14508\n",
      "119: 10804\n",
      "120: 36609\n",
      "121: 32951\n",
      "122: 33598\n",
      "123: 30846\n",
      "124: 28675\n",
      "125: 28453\n",
      "126: 26875\n",
      "127: 29054\n",
      "128: 31082\n",
      "129: 33061\n",
      "130: 34725\n",
      "131: 36259\n",
      "132: 805\n",
      "133: 1290\n",
      "134: 1061\n",
      "135: 755\n",
      "136: 767\n",
      "137: 771\n",
      "138: 1816\n",
      "139: 1954\n",
      "140: 1144\n",
      "141: 1424\n",
      "142: 2801\n",
      "143: 764\n",
      "144: 19563\n",
      "145: 16549\n",
      "146: 13252\n",
      "147: 10000\n",
      "148: 7763\n",
      "149: 7467\n",
      "150: 8685\n",
      "151: 9502\n",
      "152: 13734\n",
      "153: 17769\n",
      "154: 18891\n",
      "155: 19988\n",
      "156: 2057\n",
      "157: 1545\n",
      "158: 1702\n",
      "159: 3382\n",
      "160: 1409\n",
      "161: 1352\n",
      "162: 886\n",
      "163: 1024\n",
      "164: 1514\n",
      "165: 2271\n",
      "166: 1677\n",
      "167: 1904\n",
      "168: 10137\n",
      "169: 12099\n",
      "170: 10450\n",
      "171: 9994\n",
      "172: 12424\n",
      "173: 13905\n",
      "174: 13671\n",
      "175: 11655\n",
      "176: 9575\n",
      "177: 11544\n",
      "178: 11270\n",
      "179: 10674\n",
      "180: 2041\n",
      "181: 1041\n",
      "182: 1494\n",
      "183: 2189\n",
      "184: 1143\n",
      "185: 1401\n",
      "186: 1622\n",
      "187: 1633\n",
      "188: 1229\n",
      "189: 1721\n",
      "190: 1064\n",
      "191: 1591\n",
      "192: 8489\n",
      "193: 8159\n",
      "194: 6823\n",
      "195: 9996\n",
      "196: 12610\n",
      "197: 8651\n",
      "198: 8161\n",
      "199: 12492\n",
      "200: 10493\n",
      "201: 12804\n",
      "202: 17291\n",
      "203: 15343\n",
      "204: 7781\n",
      "205: 2721\n",
      "206: 8951\n",
      "207: 7440\n",
      "208: 8004\n",
      "209: 6789\n",
      "210: 8657\n",
      "211: 3031\n",
      "212: 4628\n",
      "213: 4847\n",
      "214: 4825\n",
      "215: 7373\n"
     ]
    }
   ],
   "source": [
    "i=0\n",
    "for s in slices['imArray']:\n",
    "    lab_im = threshold_and_label(s, highpass = False)\n",
    "    areas=list()\n",
    "    for region in measure.regionprops(lab_im):\n",
    "        areas.append(region.area)\n",
    "    if len(areas)>0:\n",
    "        print(str(i) + ': ' + str(max(areas)))\n",
    "    else:\n",
    "        print(str(i) + ': 0')\n",
    "    i=i+1"
   ]
  },
  {
   "cell_type": "code",
   "execution_count": 29,
   "metadata": {},
   "outputs": [
    {
     "data": {
      "text/plain": [
       "<matplotlib.image.AxesImage at 0x7f8ca582d0d0>"
      ]
     },
     "execution_count": 29,
     "metadata": {},
     "output_type": "execute_result"
    },
    {
     "data": {
      "image/png": "[encoded data removed]",
      "text/plain": [
       "<Figure size 432x288 with 2 Axes>"
      ]
     },
     "metadata": {
      "needs_background": "light"
     },
     "output_type": "display_data"
    }
   ],
   "source": [
    "s=slices['imArray'][8]\n",
    "lab_im = threshold_and_label(s, highpass = False)\n",
    "areas=list()\n",
    "for region in measure.regionprops(lab_im):\n",
    "    areas.append(region.area)\n",
    "measure.regionprops(lab_im)\n",
    "image_label_overlay = color.label2rgb(lab_im, image=s, bg_label=0)\n",
    "io.imshow(image_label_overlay)\n"
   ]
  },
  {
   "cell_type": "code",
   "execution_count": null,
   "metadata": {},
   "outputs": [],
   "source": []
  }
 ],
 "metadata": {
  "kernelspec": {
   "display_name": "Python 3",
   "language": "python",
   "name": "python3"
  },
  "language_info": {
   "codemirror_mode": {
    "name": "ipython",
    "version": 3
   },
   "file_extension": ".py",
   "mimetype": "text/x-python",
   "name": "python",
   "nbconvert_exporter": "python",
   "pygments_lexer": "ipython3",
   "version": "3.7.6"
  }
 },
 "nbformat": 4,
 "nbformat_minor": 4
}
